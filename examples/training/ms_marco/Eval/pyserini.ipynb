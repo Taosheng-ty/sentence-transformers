{
 "cells": [
  {
   "cell_type": "code",
   "execution_count": null,
   "metadata": {},
   "outputs": [],
   "source": []
  }
 ],
 "metadata": {
  "kernelspec": {
   "display_name": "Python 3.7.15 ('sbert': conda)",
   "language": "python",
   "name": "python3"
  },
  "language_info": {
   "name": "python",
   "version": "3.7.15"
  },
  "orig_nbformat": 4,
  "vscode": {
   "interpreter": {
    "hash": "fbbad95d1fd649463b625dabd7122d7c40eb5198c7b04fd89c984c61c714d4ed"
   }
  }
 },
 "nbformat": 4,
 "nbformat_minor": 2
}
