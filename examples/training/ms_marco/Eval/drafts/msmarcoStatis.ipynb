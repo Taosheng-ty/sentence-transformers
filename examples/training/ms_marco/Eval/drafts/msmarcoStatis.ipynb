{
 "cells": [
  {
   "cell_type": "code",
   "execution_count": 2,
   "metadata": {},
   "outputs": [],
   "source": [
    "import sys\n",
    "sys.path.append(\"..\")\n",
    "%load_ext autoreload\n",
    "%autoreload 2"
   ]
  },
  {
   "cell_type": "code",
   "execution_count": 3,
   "metadata": {},
   "outputs": [],
   "source": [
    "import os\n",
    "from collections import defaultdict\n",
    "import numpy as np"
   ]
  },
  {
   "cell_type": "code",
   "execution_count": 4,
   "metadata": {},
   "outputs": [],
   "source": [
    "data_folder =os.path.join(os.path.expanduser('~'), '.cache/MSMARCO')\n",
    "qrel_filepath = os.path.join(data_folder, 'queries.train.tsv')\n",
    "queriesText=defaultdict(str)\n",
    "pidFreq=defaultdict(int)\n",
    "pidList=[]\n",
    "with open(qrel_filepath) as fIn:\n",
    "    for line in fIn:\n",
    "        qid,query = line.strip().split('\\t')\n",
    "        queriesText[qid]=query\n",
    "        # pidList.append(pid)"
   ]
  },
  {
   "cell_type": "code",
   "execution_count": 5,
   "metadata": {},
   "outputs": [],
   "source": [
    "data_folder =os.path.join(os.path.expanduser('~'), '.cache/MSMARCO')\n",
    "qrel_filepath = os.path.join(data_folder, 'qrels.train.tsv')\n",
    "pidFreq=defaultdict(int)\n",
    "pidQuery=defaultdict(list)\n",
    "pidList=[]\n",
    "qidFreq=defaultdict(int)\n",
    "with open(qrel_filepath) as fIn:\n",
    "    for line in fIn:\n",
    "        qid,_,pid, rel = line.strip().split('\\t')\n",
    "        pidFreq[pid]+=1\n",
    "        qidFreq[qid]+=1\n",
    "        pidQuery[pid].append(queriesText[qid])\n",
    "        pidList.append(pid)"
   ]
  },
  {
   "cell_type": "code",
   "execution_count": 102,
   "metadata": {},
   "outputs": [
    {
     "name": "stdout",
     "output_type": "stream",
     "text": [
      "[477580  21868   2718    612    131     30] [1. 2. 3. 4. 5. 6. 7.]\n",
      "502939\n"
     ]
    }
   ],
   "source": [
    "qhist, qbins=np.histogram(np.array(list(qidFreq.values())),bins=6)\n",
    "print(qhist, qbins)\n",
    "print(len(qidFreq))"
   ]
  },
  {
   "cell_type": "code",
   "execution_count": 100,
   "metadata": {},
   "outputs": [
    {
     "name": "stdout",
     "output_type": "stream",
     "text": [
      "[503187  11328   1396    343    115     42     27     14      7      3\n",
      "      1      1      2      4      1      1] [ 1.  2.  3.  4.  5.  6.  7.  8.  9. 10. 11. 12. 13. 14. 15. 16. 17.]\n"
     ]
    }
   ],
   "source": [
    "hist, bins=np.histogram(np.array(list(pidFreq.values())),bins=16)\n",
    "# pidset,pidFreqDist=np.unique(np.array(pidList),return_index=True)\n",
    "# freq2pid={freq:pid }\n",
    "print(hist, bins)"
   ]
  },
  {
   "cell_type": "code",
   "execution_count": 101,
   "metadata": {},
   "outputs": [
    {
     "data": {
      "image/png": "[encoded data removed]",
      "text/plain": [
       "<Figure size 432x288 with 1 Axes>"
      ]
     },
     "metadata": {
      "needs_background": "light"
     },
     "output_type": "display_data"
    }
   ],
   "source": [
    "import matplotlib.pyplot as plt\n",
    "plt.plot(bins[1:],hist)\n",
    "plt.ylabel('number of docs')\n",
    "plt.xlabel('freq.')\n",
    "plt.show()"
   ]
  },
  {
   "cell_type": "code",
   "execution_count": 60,
   "metadata": {},
   "outputs": [
    {
     "name": "stdout",
     "output_type": "stream",
     "text": [
      "dict_keys([1, 2, 3, 5, 4, 14, 6, 7, 10, 8, 9, 15, 17, 12, 11, 13])\n"
     ]
    }
   ],
   "source": [
    "freq2pid=defaultdict(list)\n",
    "for pid in pidQuery:\n",
    "    freq2pid[len(pidQuery[pid])].append(pid)\n",
    "print(freq2pid.keys())"
   ]
  },
  {
   "cell_type": "code",
   "execution_count": 118,
   "metadata": {},
   "outputs": [
    {
     "name": "stdout",
     "output_type": "stream",
     "text": [
      "['how much is does it cost to insure a house', 'how much is homeowners insurance average', 'how to estimate homeowners insurance', 'average price of home insurance']\n"
     ]
    }
   ],
   "source": [
    "pids=freq2pid[4]\n",
    "# print(pids)\n",
    "print(pidQuery[pids[0]])\n",
    "# pidQuery"
   ]
  },
  {
   "cell_type": "code",
   "execution_count": 6,
   "metadata": {},
   "outputs": [],
   "source": [
    "data_folder =os.path.join(os.path.expanduser('~'), '.cache/MSMARCO')\n",
    "qrel_filepath = os.path.join(data_folder, 'qrels.dev.tsv')\n",
    "pidFreqDev=defaultdict(int)\n",
    "pidQueryDev=defaultdict(list)\n",
    "pidList=[]\n",
    "qidFreqDev=defaultdict(int)\n",
    "with open(qrel_filepath) as fIn:\n",
    "    for line in fIn:\n",
    "        qid,_,pid, rel = line.strip().split('\\t')\n",
    "        pidFreqDev[pid]+=1\n",
    "        qidFreqDev[qid]+=1\n",
    "        pidQueryDev[pid].append(queriesText[qid])\n",
    "        pidList.append(pid)"
   ]
  },
  {
   "cell_type": "code",
   "execution_count": 125,
   "metadata": {},
   "outputs": [
    {
     "name": "stdout",
     "output_type": "stream",
     "text": [
      "[58925   171] [1. 2. 3.]\n"
     ]
    }
   ],
   "source": [
    "hist, bins=np.histogram(np.array(list(pidFreqDev.values())),bins=2)\n",
    "# pidset,pidFreqDist=np.unique(np.array(pidList),return_index=True)\n",
    "# freq2pid={freq:pid }\n",
    "print(hist, bins)"
   ]
  },
  {
   "cell_type": "code",
   "execution_count": 131,
   "metadata": {},
   "outputs": [
    {
     "name": "stdout",
     "output_type": "stream",
     "text": [
      "2287 516472 59096\n"
     ]
    }
   ],
   "source": [
    "traing=np.array(list(pidFreq.keys()))\n",
    "dev=np.array(list(pidFreqDev.keys()))\n",
    "# print(pidFreq.keys(),pidFreqDev.keys())\n",
    "intersect=np.intersect1d(traing,dev)\n",
    "print(len(intersect),len(traing),len(dev))"
   ]
  },
  {
   "cell_type": "code",
   "execution_count": 22,
   "metadata": {},
   "outputs": [],
   "source": [
    "# data_folder =os.path.join(os.path.expanduser('~'), '.cache/MSMARCO')\n",
    "# qrel_filepath = os.path.join(data_folder, 'qrels.dev.tsv')\n",
    "qrel_filepath=\"/home/taoyang/research/sharedData/MSMARCO_DL19Pass/2019qrels-pass.txt\"\n",
    "pidFreq19=defaultdict(int)\n",
    "qidFreq19=defaultdict(int)\n",
    "pidQuery19=defaultdict(list)\n",
    "pidqid19=defaultdict(list)\n",
    "pidList=[]\n",
    "qidpid19=defaultdict(list)\n",
    "qidDict=defaultdict(int)\n",
    "with open(qrel_filepath) as fIn:\n",
    "    for line in fIn:\n",
    "        qid,_,pid, rel = line.strip().split(' ')\n",
    "        qidDict[qid]+=1\n",
    "        if int(rel)>0:\n",
    "            pidFreq19[pid]+=1\n",
    "            qidFreq19[qid]+=1\n",
    "            pidQuery19[pid].append(queriesText[qid])\n",
    "            qidpid19[qid].append(pid)\n",
    "            pidList.append(pid)"
   ]
  },
  {
   "cell_type": "code",
   "execution_count": 23,
   "metadata": {},
   "outputs": [
    {
     "data": {
      "text/plain": [
       "43"
      ]
     },
     "execution_count": 23,
     "metadata": {},
     "output_type": "execute_result"
    }
   ],
   "source": [
    "len(qidDict)"
   ]
  },
  {
   "cell_type": "code",
   "execution_count": 25,
   "metadata": {},
   "outputs": [
    {
     "name": "stdout",
     "output_type": "stream",
     "text": [
      "defaultdict(<class 'int'>, {'19335': 20, '47923': 112, '87181': 83, '87452': 81, '104861': 141, '130510': 28, '131843': 64, '146187': 23, '148538': 101, '156493': 133, '168216': 289, '182539': 53, '183378': 229, '207786': 24, '264014': 211, '359349': 56, '405717': 35, '443396': 94, '451602': 154, '489204': 96, '490595': 55, '527433': 75, '573724': 69, '833860': 75, '855410': 4, '915593': 92, '962179': 25, '1037798': 13, '1063750': 276, '1103812': 31, '1106007': 60, '1110199': 35, '1112341': 142, '1113437': 77, '1114646': 52, '1114819': 341, '1115776': 24, '1117099': 119, '1121402': 46, '1121709': 12, '1124210': 139, '1129237': 28, '1133167': 285}) 43\n"
     ]
    }
   ],
   "source": [
    "print(qidFreq19,len(qidFreq19.keys()))"
   ]
  },
  {
   "cell_type": "code",
   "execution_count": 136,
   "metadata": {},
   "outputs": [
    {
     "name": "stdout",
     "output_type": "stream",
     "text": [
      "354 516472 4102\n"
     ]
    }
   ],
   "source": [
    "traing=np.array(list(pidFreq.keys()))\n",
    "dev=np.array(list(pidFreq19.keys()))\n",
    "# print(pidFreq.keys(),pidFreqDev.keys())\n",
    "intersect=np.intersect1d(traing,dev)\n",
    "print(len(intersect),len(traing),len(dev))"
   ]
  },
  {
   "cell_type": "code",
   "execution_count": null,
   "metadata": {},
   "outputs": [],
   "source": [
    "DL19queries"
   ]
  },
  {
   "cell_type": "code",
   "execution_count": 43,
   "metadata": {},
   "outputs": [
    {
     "name": "stdout",
     "output_type": "stream",
     "text": [
      "1 516472 20 --- 118 1000\n",
      "anthropological definition of environment [['anthropology definition of worldview']]\n",
      "11 516472 112 --- 67 1000\n",
      "axon terminals or synaptic knob definition [['definition of terminal buttons'], ['waht are outgoing signals on neurons called'], ['what part of a neuron receives signals'], ['what isthe junction between an axon terminal and the next neuron'], ['what occurs in the synapse between neurons'], ['which part(s) of the neuron can conduct an action potential?', 'how is action potential generated and propagated along neurons'], ['axon terminal definition'], ['chemical signals diffuse between neurons at this location'], ['_______ are specialized cells that conduct impulses through the nervous system.'], ['medical definition of synaptic knob'], ['what is the term used to describe the bulbs located at the end of the axon']]\n",
      "4 516472 83 --- 63 1000\n",
      "causes of left ventricular hypertrophy [['what is the cause of ventricular hypertrophy'], ['which factor is responsible for the hypertrophy of the myocardium associated with hypertension'], ['does hcm cause hypertension'], ['what is septal hypertrophy']]\n",
      "2 516472 81 --- 54 1000\n",
      "causes of military suicide [['are there certain types of people that are prone to depression'], ['causes of depression and suicide']]\n",
      "21 516472 141 --- 64 1000\n",
      "cost of interior concrete flooring [['cost of adding color to concrete'], ['price of polished concrete floors', 'cost of polished concrete floors', 'how much should charge to buff a floor'], ['concrete cost per yard'], ['labor cost to pour and finish concrete'], ['polished concrete cost per m2'], ['cost for concrete overlay'], ['polished concrete floors residential cost'], ['average cost of polished concrete', 'cost to level a concrete floor'], ['how much does it cost to score a concrete floor', 'cost of concrete garage floor'], ['cost of concrete floors to regular floors'], ['cost of installing concrete floor'], ['cost of stained concrete flooring'], ['concrete pricing per yard 2016'], ['how much can i expect to pay for concrete staining'], ['concrete flooring cost'], ['cost of concrete floors'], ['concrete repair products cost per square foot', 'how much to pour a concrete basement floor'], ['laying concrete floor cost'], ['how much should it cost for a concrete floor'], ['cost of polished concrete floor'], ['concrete floor finish cost']]\n",
      "0 516472 28 --- 81 1000\n",
      "definition declaratory judgment []\n",
      "4 516472 64 --- 66 1000\n",
      "definition of a sigmet [['difference between tornado warning & watch'], [\"what's the difference between a tornado warning in a tornado watch\"], ['what is the difference between a tornado warning and tornado watch'], ['define sigmet']]\n",
      "1 516472 23 --- 68 1000\n",
      "difference between a mcdouble and a double cheeseburger [['how much protein does a mcdonalds burger have']]\n",
      "6 516472 101 --- 71 1000\n",
      "difference between rn and bsn [['how many years of college to become a rn'], ['what are the different nurse titles'], ['what is rn bsn med'], ['how long does it take to get a nursing diploma'], ['what knowledge do you gain becoming an rn'], [\"comparing rn and bsn: what's the difference\"]]\n",
      "15 516472 133 --- 82 1000\n",
      "do goldfish grow [['how long goldfish live'], ['how big do shubunkin goldfish grow'], ['what are feeder goldfish'], ['how big does a shubunkin goldfish get'], ['how deep does a goldfish pond need to be'], ['how fast do baby goldfish grow'], ['what temperature to have fish tank?'], ['how big can goldfish grow'], ['how to grow goldfish faster'], ['how old is a goldfish from the pet store'], ['can goldfish and tropical fish live together'], ['pet fish lifespan'], ['how large does goldfish get?'], ['how old should goldfish be to be adults'], ['types of goldfish and colors']]\n",
      "26 516472 289 --- 78 1000\n",
      "does legionella pneumophila cause pneumonia [['what is legionnaire disease'], ['legionella pneumophila causes what disease'], ['what causes pneumonia symptoms other than pneumonia'], ['what antibiotics treat bacterial pneumonia'], ['ross died of what illness'], ['what is the name of the bacteria that causes pneumonia?'], ['what is legionella'], ['is legionella intracellular'], ['what are atypical organisms radiology'], ['where can legionnaires disease be found'], ['what is legionnaires'], ['what legionnaires disease'], ['what is Legionnaires’ disease'], ['is legionnaires easily transmitted?'], ['what is the legionnaires disease'], ['how is legionnaires disease diagnosed'], ['types of pathogenic bacteria'], [\"what is the cause of legionnaires' disease\"], ['human diseases caused by bacteria'], ['bacteria that cause legionnaires disease'], ['what is erythromycin used for'], ['what temperature does legionnaires disease'], ['legionella bacteria can cause what type of illnesses'], ['causes of legionnaires disease'], ['bacterial diseases examples'], ['what is considered scalding water temperatures']]\n",
      "3 516472 53 --- 77 1000\n",
      "example of monotonic function [['example of strictly concave function'], ['what does it mean if your monotone'], ['longest increasing sequence']]\n",
      "14 516472 229 --- 84 1000\n",
      "exons definition biology [['define dna exon'], ['differences between cdna and genomic dna'], ['what role do introns and exons play in protein synthesis'], ['defined cds genetics'], ['define intron'], ['why is dna called the blueprint of life'], ['what does alternative splicing do'], ['what is the difference between introns and exons'], ['what is the difference between introns and exons'], ['what is the difference between introns and exons'], ['why is rna interference aptly named?'], ['definition of exon'], ['what is removed during rna splicing'], ['what is exome sequencing']]\n",
      "0 516472 24 --- 85 1000\n",
      "how are some sharks warm blooded []\n",
      "15 516472 211 --- 61 1000\n",
      "how long is life cycle of flea [['is the life cycle of a flea?'], ['how long for a flea collar to work'], ['how soon does the female flea start laying eggs'], ['how long do flea pupae live'], ['how long till flea eggs hatch'], ['how long can fleas live off of a host'], ['how long can fleas live without eating'], ['how long does it take for flea eggs to hatch'], ['how long flea drown'], ['how long can fleas live in a carpet', 'how long does flea live'], ['how long can fleas live in the carpet?'], ['how long before fleas starve'], ['what is the life cycle of fleas'], ['how long is a flea life cycle'], ['how many eggs can a flea lay']]\n",
      "2 516472 56 --- 62 1000\n",
      "how to find the midsegment of a trapezoid [['median of a trapezoid definition geometry'], ['define midpoint formula']]\n",
      "4 516472 35 --- 69 1000\n",
      "is cdg airport in main paris [['largest airport in world'], ['which airport has the code cdg?'], [\"what's the airport name in france?\"], ['what airport is nearest disneyland']]\n",
      "3 516472 94 --- 67 1000\n",
      "lps laws definition [['can a parent have an adult child removed from a baker act'], ['involuntary psychiatric hold'], ['define legal term civil commitment']]\n",
      "11 516472 154 --- 75 1000\n",
      "medicare's definition of mechanical ventilation [['mechanical device is used to replace or supplement the patient natural breathing'], ['what is intubated patient spiking'], ['what does intubated mean'], ['where do you cut for a tracheostomy'], ['who needs mechanical ventilation'], ['what does intubate mean'], ['flow in mechanical ventilation definition'], ['what is intubated patients'], ['what is glossopharyngeal breathing'], ['what do you call the machine used for sleep apnea'], ['define spontaneous breathing']]\n",
      "16 516472 96 --- 69 1000\n",
      "right pelvic pain causes [['causes of sharp pain in back on right side'], ['where can the liver cause pain'], ['causes for pain in lower abdomen'], ['causes of hip pain and stomach pain'], ['what organs are on the upper right side'], ['where does appendicitis pain start'], ['what might be causing lower abdomenal pain on the right side'], ['what causes lower right abdominal pain', 'what is on the bottom right of your stomach'], ['where is my liver?'], ['causes of ruq pain'], ['causes of pelvic pain'], ['causes of pelvic pain'], ['what could cause right side pain'], ['is appendicitis an infection'], ['what causes right side pain'], ['what causes pain on upper right part of one stomach']]\n",
      "7 516472 55 --- 70 1000\n",
      "rsa definition key [['what does TPM mean'], ['what is rsa?'], ['what is rsa conference'], ['what is rsa algorithm'], ['what is the rsa algorithm'], ['what is rsa'], ['define rsa']]\n",
      "12 516472 75 --- 78 1000\n",
      "types of dysarthria from cerebral palsy [['what causes dysarthria'], ['define dysarthria and anarthria'], ['what diseases cause slurring of speech'], ['causes of sudden slurred speech'], ['what causes slurring of speech'], ['what subsystems are affected by ataxic dysarthria'], ['dysarthria definition medical'], ['what causes slurred'], ['how common is dysarthria'], ['definition of dysarthria apraxia'], ['types of palsy'], ['define dysarthric']]\n"
     ]
    },
    {
     "ename": "KeyboardInterrupt",
     "evalue": "",
     "output_type": "error",
     "traceback": [
      "\u001b[0;31m---------------------------------------------------------------------------\u001b[0m",
      "\u001b[0;31mKeyboardInterrupt\u001b[0m                         Traceback (most recent call last)",
      "\u001b[0;32m/tmp/ipykernel_9917/2923432596.py\u001b[0m in \u001b[0;36m<module>\u001b[0;34m\u001b[0m\n\u001b[1;32m      4\u001b[0m     \u001b[0mdev\u001b[0m\u001b[0;34m=\u001b[0m\u001b[0mnp\u001b[0m\u001b[0;34m.\u001b[0m\u001b[0marray\u001b[0m\u001b[0;34m(\u001b[0m\u001b[0mqidpid19\u001b[0m\u001b[0;34m[\u001b[0m\u001b[0mqid\u001b[0m\u001b[0;34m]\u001b[0m\u001b[0;34m)\u001b[0m\u001b[0;34m\u001b[0m\u001b[0;34m\u001b[0m\u001b[0m\n\u001b[1;32m      5\u001b[0m     \u001b[0;31m# print(pidFreq.keys(),pidFreqDev.keys())\u001b[0m\u001b[0;34m\u001b[0m\u001b[0;34m\u001b[0m\u001b[0;34m\u001b[0m\u001b[0m\n\u001b[0;32m----> 6\u001b[0;31m     \u001b[0mintersect\u001b[0m\u001b[0;34m=\u001b[0m\u001b[0mnp\u001b[0m\u001b[0;34m.\u001b[0m\u001b[0mintersect1d\u001b[0m\u001b[0;34m(\u001b[0m\u001b[0mtraing\u001b[0m\u001b[0;34m,\u001b[0m\u001b[0mdev\u001b[0m\u001b[0;34m)\u001b[0m\u001b[0;34m\u001b[0m\u001b[0;34m\u001b[0m\u001b[0m\n\u001b[0m\u001b[1;32m      7\u001b[0m \u001b[0;34m\u001b[0m\u001b[0m\n\u001b[1;32m      8\u001b[0m     \u001b[0mcandidatePid\u001b[0m\u001b[0;34m=\u001b[0m\u001b[0mcandidateSet\u001b[0m\u001b[0;34m[\u001b[0m\u001b[0mstr\u001b[0m\u001b[0;34m(\u001b[0m\u001b[0mqid\u001b[0m\u001b[0;34m)\u001b[0m\u001b[0;34m]\u001b[0m\u001b[0;34m\u001b[0m\u001b[0;34m\u001b[0m\u001b[0m\n",
      "\u001b[0;32m~/miniconda3/envs/python38/lib/python3.8/site-packages/numpy/core/overrides.py\u001b[0m in \u001b[0;36mintersect1d\u001b[0;34m(*args, **kwargs)\u001b[0m\n",
      "\u001b[0;32m~/miniconda3/envs/python38/lib/python3.8/site-packages/numpy/lib/arraysetops.py\u001b[0m in \u001b[0;36mintersect1d\u001b[0;34m(ar1, ar2, assume_unique, return_indices)\u001b[0m\n\u001b[1;32m    453\u001b[0m         \u001b[0maux\u001b[0m \u001b[0;34m=\u001b[0m \u001b[0maux\u001b[0m\u001b[0;34m[\u001b[0m\u001b[0maux_sort_indices\u001b[0m\u001b[0;34m]\u001b[0m\u001b[0;34m\u001b[0m\u001b[0;34m\u001b[0m\u001b[0m\n\u001b[1;32m    454\u001b[0m     \u001b[0;32melse\u001b[0m\u001b[0;34m:\u001b[0m\u001b[0;34m\u001b[0m\u001b[0;34m\u001b[0m\u001b[0m\n\u001b[0;32m--> 455\u001b[0;31m         \u001b[0maux\u001b[0m\u001b[0;34m.\u001b[0m\u001b[0msort\u001b[0m\u001b[0;34m(\u001b[0m\u001b[0;34m)\u001b[0m\u001b[0;34m\u001b[0m\u001b[0;34m\u001b[0m\u001b[0m\n\u001b[0m\u001b[1;32m    456\u001b[0m \u001b[0;34m\u001b[0m\u001b[0m\n\u001b[1;32m    457\u001b[0m     \u001b[0mmask\u001b[0m \u001b[0;34m=\u001b[0m \u001b[0maux\u001b[0m\u001b[0;34m[\u001b[0m\u001b[0;36m1\u001b[0m\u001b[0;34m:\u001b[0m\u001b[0;34m]\u001b[0m \u001b[0;34m==\u001b[0m \u001b[0maux\u001b[0m\u001b[0;34m[\u001b[0m\u001b[0;34m:\u001b[0m\u001b[0;34m-\u001b[0m\u001b[0;36m1\u001b[0m\u001b[0;34m]\u001b[0m\u001b[0;34m\u001b[0m\u001b[0;34m\u001b[0m\u001b[0m\n",
      "\u001b[0;31mKeyboardInterrupt\u001b[0m: "
     ]
    }
   ],
   "source": [
    "traing=np.array(list(pidFreq.keys()))\n",
    "for qid in qidpid19:\n",
    "    \n",
    "    dev=np.array(qidpid19[qid])\n",
    "    # print(pidFreq.keys(),pidFreqDev.keys())\n",
    "    intersect=np.intersect1d(traing,dev)\n",
    "    \n",
    "    candidatePid=candidateSet[str(qid)]\n",
    "    intersectTotal=np.intersect1d(traing,candidatePid)\n",
    "    print(len(intersect),len(traing),len(dev),\"---\",len(intersectTotal),len(candidatePid))\n",
    "    queriesAccodingPid=[pidQuery[intersectI] for intersectI in intersect  ]\n",
    "    print(DL19queries[qid],queriesAccodingPid)"
   ]
  },
  {
   "cell_type": "code",
   "execution_count": 29,
   "metadata": {},
   "outputs": [],
   "source": [
    "traing=np.array(list(pidFreq.keys()))\n",
    "traingset=set(traing.flatten())\n"
   ]
  },
  {
   "cell_type": "code",
   "execution_count": 37,
   "metadata": {},
   "outputs": [
    {
     "name": "stderr",
     "output_type": "stream",
     "text": [
      "Loading data: 100%|██████████| 189877/189877 [00:00<00:00, 201697.16it/s]\n",
      "100%|██████████| 200/200 [00:00<00:00, 3220.16it/s]"
     ]
    },
    {
     "name": "stdout",
     "output_type": "stream",
     "text": [
      "131843 False\n",
      "1114646 False\n",
      "915593 False\n",
      "87452 False\n",
      "1037798 False\n",
      "183378 False\n",
      "1117099 False\n",
      "833860 False\n",
      "1121402 False\n",
      "1103812 False\n",
      "489204 False\n",
      "1113437 False\n",
      "962179 False\n",
      "490595 False\n",
      "1124210 False\n",
      "264014 False\n",
      "573724 False\n",
      "47923 False\n",
      "148538 False\n",
      "182539 False\n",
      "87181 False\n",
      "443396 False\n",
      "1112341 False\n",
      "359349 False\n",
      "1110199 False\n",
      "19335 False\n",
      "1106007 False\n",
      "168216 False\n",
      "451602 False\n",
      "405717 False\n",
      "1115776 False\n",
      "207786 False\n",
      "1063750 False\n",
      "1114819 False\n",
      "527433 False\n",
      "104861 False\n",
      "1133167 False\n",
      "146187 False\n",
      "156493 False\n",
      "1129237 False\n",
      "130510 False\n",
      "1121709 False\n",
      "855410 False\n"
     ]
    },
    {
     "name": "stderr",
     "output_type": "stream",
     "text": [
      "\n"
     ]
    }
   ],
   "source": [
    "from eval import qrels2Evaluator,loadEvalRanklist\n",
    "# import random\n",
    "dataName=\"DL19\"\n",
    "from tqdm import tqdm\n",
    "evaluator=qrels2Evaluator(dataName,metrics={'ndcg_cut.10'})\n",
    "candidateSet,DL19queries,Corpus=loadEvalRanklist(dataName)\n",
    "run={}\n",
    "for qid in tqdm(candidateSet):\n",
    "    if str(qid) not in qidFreq19:\n",
    "        continue\n",
    "    print(qid,str(qid) not in qidFreq19)\n",
    "    run[qid]={}\n",
    "    for pid in candidateSet[qid]:\n",
    "        # print(pid,str(pid) in traing)\n",
    "        score=1 if str(pid) in traingset else 0\n",
    "        score+=np.random.rand()*0.01\n",
    "        run[qid][pid]=float(score)"
   ]
  },
  {
   "cell_type": "code",
   "execution_count": 33,
   "metadata": {},
   "outputs": [
    {
     "name": "stdout",
     "output_type": "stream",
     "text": [
      "defaultdict(<class 'list'>, {'DL19ndcg_cut_10': [0.06383394851296931]})\n"
     ]
    }
   ],
   "source": [
    "import pytrec_eval\n",
    "EvalResults=evaluator.evaluate(run)\n",
    "AggResults= defaultdict(list)\n",
    "RealCalMetrics=list(EvalResults.values())[0].keys()\n",
    "for measure in sorted(RealCalMetrics):\n",
    "    AggResults[dataName+measure].append(pytrec_eval.compute_aggregated_measure(\n",
    "            measure,\n",
    "            [query_measures[measure]\n",
    "                for query_measures in EvalResults.values()]))\n",
    "print(AggResults)"
   ]
  }
 ],
 "metadata": {
  "kernelspec": {
   "display_name": "Python 3.8.0 ('python38': conda)",
   "language": "python",
   "name": "python3"
  },
  "language_info": {
   "codemirror_mode": {
    "name": "ipython",
    "version": 3
   },
   "file_extension": ".py",
   "mimetype": "text/x-python",
   "name": "python",
   "nbconvert_exporter": "python",
   "pygments_lexer": "ipython3",
   "version": "3.8.0"
  },
  "orig_nbformat": 4,
  "vscode": {
   "interpreter": {
    "hash": "f51f3164bb67accae470ceb528ff1ab10c934daf4e39c39a97bea3486586d8a0"
   }
  }
 },
 "nbformat": 4,
 "nbformat_minor": 2
}
